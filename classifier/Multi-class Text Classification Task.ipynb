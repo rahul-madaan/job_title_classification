{
 "cells": [
  {
   "cell_type": "markdown",
   "metadata": {},
   "source": [
    "# Multi-Class Text Classififcation Task"
   ]
  },
  {
   "cell_type": "code",
   "execution_count": 16,
   "metadata": {},
   "outputs": [],
   "source": [
    "#imports cell \n",
    "\n",
    "#basic imports\n",
    "import pandas as pd\n",
    "\n",
    "#NLP imports\n",
    "from gensim.utils import simple_preprocess\n",
    "from gensim.parsing.preprocessing import STOPWORDS\n",
    "\n",
    "\n",
    "#Classification imports\n",
    "from sklearn.model_selection import train_test_split\n",
    "from sklearn.utils.class_weight import compute_sample_weight\n",
    "from sklearn.feature_extraction.text import CountVectorizer\n",
    "from sklearn.metrics import accuracy_score\n",
    "from sklearn.pipeline import Pipeline\n",
    "from sklearn.feature_extraction.text import TfidfTransformer\n",
    "from sklearn.linear_model import SGDClassifier"
   ]
  },
  {
   "cell_type": "markdown",
   "metadata": {},
   "source": [
    "## Step 1: Data \n",
    "<ol>\n",
    "    \n",
    "    1.Loading Data into a dataframe.\n",
    "    \n",
    "    2.Understanding and Visualizing data.\n",
    "    \n",
    "    3.Cleaning and preprocessing data.\n",
    "    \n",
    "    4.Splitting data into test and train datasets."
   ]
  },
  {
   "cell_type": "code",
   "execution_count": 17,
   "metadata": {},
   "outputs": [
    {
     "data": {
      "text/plain": "                                           job title industry\n0  technical support and helpdesk supervisor - co...       IT\n1                  senior technical support engineer       IT\n2                                head of it services       IT\n3                              js front end engineer       IT\n4                   network and telephony controller       IT",
      "text/html": "<div>\n<style scoped>\n    .dataframe tbody tr th:only-of-type {\n        vertical-align: middle;\n    }\n\n    .dataframe tbody tr th {\n        vertical-align: top;\n    }\n\n    .dataframe thead th {\n        text-align: right;\n    }\n</style>\n<table border=\"1\" class=\"dataframe\">\n  <thead>\n    <tr style=\"text-align: right;\">\n      <th></th>\n      <th>job title</th>\n      <th>industry</th>\n    </tr>\n  </thead>\n  <tbody>\n    <tr>\n      <th>0</th>\n      <td>technical support and helpdesk supervisor - co...</td>\n      <td>IT</td>\n    </tr>\n    <tr>\n      <th>1</th>\n      <td>senior technical support engineer</td>\n      <td>IT</td>\n    </tr>\n    <tr>\n      <th>2</th>\n      <td>head of it services</td>\n      <td>IT</td>\n    </tr>\n    <tr>\n      <th>3</th>\n      <td>js front end engineer</td>\n      <td>IT</td>\n    </tr>\n    <tr>\n      <th>4</th>\n      <td>network and telephony controller</td>\n      <td>IT</td>\n    </tr>\n  </tbody>\n</table>\n</div>"
     },
     "execution_count": 17,
     "metadata": {},
     "output_type": "execute_result"
    }
   ],
   "source": [
    "#loading data into a dataframe.\n",
    "dataframe = pd.read_csv(\"./Job titles and industries.csv\")\n",
    "dataframe.head()"
   ]
  },
  {
   "cell_type": "markdown",
   "metadata": {},
   "source": [
    "### Cleaning the data: Removing duplicates"
   ]
  },
  {
   "cell_type": "code",
   "execution_count": 18,
   "metadata": {},
   "outputs": [],
   "source": [
    "cleanframe = dataframe.drop_duplicates(subset=\"job title\")\n"
   ]
  },
  {
   "cell_type": "markdown",
   "metadata": {},
   "source": [
    "### Cleaning the data: Text Pre-processing"
   ]
  },
  {
   "cell_type": "code",
   "execution_count": 19,
   "metadata": {},
   "outputs": [
    {
     "name": "stderr",
     "output_type": "stream",
     "text": [
      "/var/folders/fn/c33r88ts7dvfl73p9x0_qxh00000gn/T/ipykernel_1869/2759736301.py:13: SettingWithCopyWarning: \n",
      "A value is trying to be set on a copy of a slice from a DataFrame.\n",
      "Try using .loc[row_indexer,col_indexer] = value instead\n",
      "\n",
      "See the caveats in the documentation: https://pandas.pydata.org/pandas-docs/stable/user_guide/indexing.html#returning-a-view-versus-a-copy\n",
      "  cleanframe['job title'] = cleanframe['job title'].map(clean_text)\n"
     ]
    },
    {
     "data": {
      "text/plain": "                                           job title industry\n0  technical support helpdesk supervisor county b...       IT\n1                 senior technical support engineer        IT\n2                                     head services        IT\n3                                   js end engineer        IT\n4                      network telephony controller        IT",
      "text/html": "<div>\n<style scoped>\n    .dataframe tbody tr th:only-of-type {\n        vertical-align: middle;\n    }\n\n    .dataframe tbody tr th {\n        vertical-align: top;\n    }\n\n    .dataframe thead th {\n        text-align: right;\n    }\n</style>\n<table border=\"1\" class=\"dataframe\">\n  <thead>\n    <tr style=\"text-align: right;\">\n      <th></th>\n      <th>job title</th>\n      <th>industry</th>\n    </tr>\n  </thead>\n  <tbody>\n    <tr>\n      <th>0</th>\n      <td>technical support helpdesk supervisor county b...</td>\n      <td>IT</td>\n    </tr>\n    <tr>\n      <th>1</th>\n      <td>senior technical support engineer</td>\n      <td>IT</td>\n    </tr>\n    <tr>\n      <th>2</th>\n      <td>head services</td>\n      <td>IT</td>\n    </tr>\n    <tr>\n      <th>3</th>\n      <td>js end engineer</td>\n      <td>IT</td>\n    </tr>\n    <tr>\n      <th>4</th>\n      <td>network telephony controller</td>\n      <td>IT</td>\n    </tr>\n  </tbody>\n</table>\n</div>"
     },
     "execution_count": 19,
     "metadata": {},
     "output_type": "execute_result"
    }
   ],
   "source": [
    "def clean_text(text):\n",
    "    \"\"\"\n",
    "        text: a string \n",
    "        return: modified clean string\n",
    "    \"\"\"\n",
    "    result = \"\"\n",
    "    for token in simple_preprocess(text):\n",
    "        if token not in STOPWORDS and len(token) >= 2:\n",
    "            token = token.lower() # lowercase text\n",
    "            result+=token+\" \"     # append to result\n",
    "    return result\n",
    "\n",
    "cleanframe['job title'] = cleanframe['job title'].map(clean_text)\n",
    "cleanframe.head()"
   ]
  },
  {
   "cell_type": "markdown",
   "metadata": {},
   "source": [
    "### Splitting data into test and train datasets + Dealing with class imbalance"
   ]
  },
  {
   "cell_type": "code",
   "execution_count": 20,
   "metadata": {},
   "outputs": [],
   "source": [
    "X = cleanframe['job title']\n",
    "y = cleanframe['industry']\n",
    "X_train, X_test, y_train, y_test = train_test_split(X, y, test_size=0.25, random_state = 42)\n",
    "weights = compute_sample_weight(\"balanced\",y_train)\n",
    "# X_test.to_excel(\"./Xtest.xlsx\")\n",
    "# y_test.to_excel(\"./ytest.xlsx\")"
   ]
  },
  {
   "cell_type": "markdown",
   "source": [
    "### Approach 2: Linear SVM"
   ],
   "metadata": {
    "collapsed": false
   }
  },
  {
   "cell_type": "code",
   "execution_count": 14,
   "metadata": {},
   "outputs": [
    {
     "name": "stdout",
     "output_type": "stream",
     "text": [
      "accuracy 0.8931140801644398\n"
     ]
    }
   ],
   "source": [
    "sgd = Pipeline([('vect', CountVectorizer()),\n",
    "                ('tfidf', TfidfTransformer()),\n",
    "                ('clf', SGDClassifier(loss='hinge', penalty='l2',alpha=1e-3, random_state=42, max_iter=5, tol=None)),])\n",
    "\n",
    "sgd.fit(X_train, y_train, **{'clf__sample_weight': weights})\n",
    "\n",
    "y_pred = sgd.predict(X_test)\n",
    "print('accuracy %s' % accuracy_score(y_pred, y_test))"
   ]
  },
  {
   "cell_type": "markdown",
   "metadata": {},
   "source": [
    "### Save the final selected Model to a file to use directly in the RESTfull API script."
   ]
  },
  {
   "cell_type": "code",
   "execution_count": 15,
   "metadata": {
    "scrolled": true
   },
   "outputs": [
    {
     "data": {
      "text/plain": "['model.joblib']"
     },
     "execution_count": 15,
     "metadata": {},
     "output_type": "execute_result"
    }
   ],
   "source": [
    "from joblib import dump, load\n",
    "dump(sgd, 'model.joblib')"
   ]
  },
  {
   "cell_type": "code",
   "execution_count": null,
   "outputs": [],
   "source": [],
   "metadata": {
    "collapsed": false
   }
  }
 ],
 "metadata": {
  "kernelspec": {
   "display_name": "Python 3",
   "language": "python",
   "name": "python3"
  },
  "language_info": {
   "codemirror_mode": {
    "name": "ipython",
    "version": 3
   },
   "file_extension": ".py",
   "mimetype": "text/x-python",
   "name": "python",
   "nbconvert_exporter": "python",
   "pygments_lexer": "ipython3",
   "version": "3.7.1"
  }
 },
 "nbformat": 4,
 "nbformat_minor": 2
}
